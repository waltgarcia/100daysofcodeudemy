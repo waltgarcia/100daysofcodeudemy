{
  "nbformat": 4,
  "nbformat_minor": 0,
  "metadata": {
    "colab": {
      "name": "Day 3 - Exercise 2 - BMI 2.0 ",
      "provenance": [],
      "authorship_tag": "ABX9TyMSACPUWqKg8TvQrzshGZl6",
      "include_colab_link": true
    },
    "kernelspec": {
      "name": "python3",
      "display_name": "Python 3"
    },
    "language_info": {
      "name": "python"
    }
  },
  "cells": [
    {
      "cell_type": "markdown",
      "metadata": {
        "id": "view-in-github",
        "colab_type": "text"
      },
      "source": [
        "<a href=\"https://colab.research.google.com/github/waltgarcia/100daysofcodeudemy/blob/main/Day_3_Exercise_2_BMI_2_0.ipynb\" target=\"_parent\"><img src=\"https://colab.research.google.com/assets/colab-badge.svg\" alt=\"Open In Colab\"/></a>"
      ]
    },
    {
      "cell_type": "markdown",
      "source": [
        "### Make a BMI calculator that gives you the current bmi and its classification."
      ],
      "metadata": {
        "id": "zUZ4ZJ6TsVXr"
      }
    },
    {
      "cell_type": "code",
      "source": [
        "# 🚨 Don't change the code below 👇\n",
        "height = float(input(\"enter your height in m: \"))\n",
        "weight = float(input(\"enter your weight in kg: \"))\n",
        "# 🚨 Don't change the code above 👆\n",
        "\n",
        "#Write your code below this line 👇\n",
        "bmi = weight/(height**2)\n",
        "bmi_rounded = round(bmi)\n",
        "\n",
        "if bmi_rounded < 18.5:\n",
        "    print(f\"Your BMI is {bmi_rounded}, you are underweight.\")\n",
        "elif bmi_rounded < 25:\n",
        "    print(f\"Your BMI is {bmi_rounded}, you have a normal weight.\")\n",
        "elif bmi_rounded < 30:\n",
        "    print(f\"Your BMI is {bmi_rounded}, you are slightly overweight.\")\n",
        "elif bmi_rounded < 35:\n",
        "    print(f\"Your BMI is {bmi_rounded}, you are obese.\")\n",
        "else:\n",
        "    print(f\"Your BMI is {bmi_rounded}, you are clinically obese.\")"
      ],
      "metadata": {
        "colab": {
          "base_uri": "https://localhost:8080/"
        },
        "id": "UIBRFaaqsb8q",
        "outputId": "2936f1f2-8d2c-4b6a-dc5d-ab1b4c8778af"
      },
      "execution_count": 1,
      "outputs": [
        {
          "output_type": "stream",
          "name": "stdout",
          "text": [
            "enter your height in m: 1.95\n",
            "enter your weight in kg: 76\n",
            "Your BMI is 20, you have a normal weight.\n"
          ]
        }
      ]
    }
  ]
}