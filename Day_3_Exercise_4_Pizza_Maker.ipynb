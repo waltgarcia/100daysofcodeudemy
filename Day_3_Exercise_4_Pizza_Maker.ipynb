{
  "nbformat": 4,
  "nbformat_minor": 0,
  "metadata": {
    "colab": {
      "name": "Day 3 - Exercise 4 - Pizza Maker",
      "provenance": [],
      "authorship_tag": "ABX9TyORZ9QlQdYS7QitstX+C68b",
      "include_colab_link": true
    },
    "kernelspec": {
      "name": "python3",
      "display_name": "Python 3"
    },
    "language_info": {
      "name": "python"
    }
  },
  "cells": [
    {
      "cell_type": "markdown",
      "metadata": {
        "id": "view-in-github",
        "colab_type": "text"
      },
      "source": [
        "<a href=\"https://colab.research.google.com/github/waltgarcia/100daysofcodeudemy/blob/main/Day_3_Exercise_4_Pizza_Maker.ipynb\" target=\"_parent\"><img src=\"https://colab.research.google.com/assets/colab-badge.svg\" alt=\"Open In Colab\"/></a>"
      ]
    },
    {
      "cell_type": "markdown",
      "source": [
        "##Instructions\n",
        "\n",
        "Congratulations, you've got a job at Python Pizza. Your first job is to build an automatic pizza order program.\n",
        "\n",
        "Based on a user's order, work out their final bill.\n",
        "\n",
        "* Small Pizza: $15\n",
        "\n",
        "* Medium Pizza: $20\n",
        "\n",
        "* Large Pizza: $25\n",
        "\n",
        "Pepperoni for Small Pizza: +$2\n",
        "\n",
        "Pepperoni for Medium or Large Pizza: +$3\n",
        "\n",
        "Extra cheese for any size pizza: + $1\n",
        "\n",
        "**Example Input**\n",
        "\n",
        "`size = \"L\"`\n",
        "`add_pepperoni = \"Y\"`\n",
        "`extra_cheese = \"N`\n",
        "\n",
        "**Example Output**\n",
        "\n",
        "`Your final bill is: $28.`"
      ],
      "metadata": {
        "id": "G2oaFN8d7dAw"
      }
    },
    {
      "cell_type": "code",
      "source": [
        "# 🚨 Don't change the code below 👇\n",
        "print(\"Welcome to Python Pizza Deliveries!\")\n",
        "size = input(\"What size pizza do you want? S, M, or L \")\n",
        "add_pepperoni = input(\"Do you want pepperoni? Y or N \")\n",
        "extra_cheese = input(\"Do you want extra cheese? Y or N \")\n",
        "# 🚨 Don't change the code above 👆\n",
        "\n",
        "#Write your code below this line 👇\n",
        "bill = 0\n",
        "\n",
        "if size == \"S\":\n",
        "  bill += 15\n",
        "elif size == \"M\":\n",
        "  bill += 20\n",
        "else:\n",
        "  bill += 25\n",
        "\n",
        "if add_pepperoni == \"Y\":\n",
        "  if size == \"S\":\n",
        "    bill += 2\n",
        "  else:\n",
        "    bill += 3\n",
        "    \n",
        "if extra_cheese == \"Y\":\n",
        "  bill += 1\n",
        "  \n",
        "print(f\"Your final bill is: ${bill}.\")"
      ],
      "metadata": {
        "colab": {
          "base_uri": "https://localhost:8080/"
        },
        "id": "vWm0_EP637eA",
        "outputId": "71389835-1a8c-4146-9385-d56cd934051d"
      },
      "execution_count": 7,
      "outputs": [
        {
          "output_type": "stream",
          "name": "stdout",
          "text": [
            "Welcome to Python Pizza Deliveries!\n",
            "What size pizza do you want? S, M, or L L\n",
            "Do you want pepperoni? Y or N Y\n",
            "Do you want extra cheese? Y or N Y\n",
            "Your final bill is: $29.\n"
          ]
        }
      ]
    },
    {
      "cell_type": "code",
      "source": [
        ""
      ],
      "metadata": {
        "id": "Eot2QU-g71jL"
      },
      "execution_count": null,
      "outputs": []
    }
  ]
}