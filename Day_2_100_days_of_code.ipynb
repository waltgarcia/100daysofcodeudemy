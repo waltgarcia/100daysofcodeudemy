{
  "nbformat": 4,
  "nbformat_minor": 0,
  "metadata": {
    "colab": {
      "name": "Day 2 - 100 days of code",
      "provenance": [],
      "authorship_tag": "ABX9TyNqqddEw4Yf1qa/l6nVBcub",
      "include_colab_link": true
    },
    "kernelspec": {
      "name": "python3",
      "display_name": "Python 3"
    },
    "language_info": {
      "name": "python"
    }
  },
  "cells": [
    {
      "cell_type": "markdown",
      "metadata": {
        "id": "view-in-github",
        "colab_type": "text"
      },
      "source": [
        "<a href=\"https://colab.research.google.com/github/waltgarcia/100daysofcodeudemy/blob/main/Day_2_100_days_of_code.ipynb\" target=\"_parent\"><img src=\"https://colab.research.google.com/assets/colab-badge.svg\" alt=\"Open In Colab\"/></a>"
      ]
    },
    {
      "cell_type": "code",
      "execution_count": null,
      "metadata": {
        "colab": {
          "base_uri": "https://localhost:8080/"
        },
        "id": "lfdXZ8KNaQCN",
        "outputId": "c6c93ef4-d240-4e11-8588-4689eaaf685b"
      },
      "outputs": [
        {
          "output_type": "stream",
          "name": "stdout",
          "text": [
            "Welcome to the tip calculator\n",
            "\n",
            "What was the total bill? 1000\n",
            "How many people to split the bill? 5\n",
            "What percentage tip would you like to give? 10%, 12% or 15% 15\n",
            "Each person should pay: $230.0\n"
          ]
        }
      ],
      "source": [
        "print(\"Welcome to the tip calculator\\n\")\n",
        "# ask for the total bill\n",
        "bill = int(input(\"What was the total bill? \"))\n",
        "# ask for the number of people that will pay the bill\n",
        "number_of_people = int(input(\"How many people to split the bill? \"))\n",
        "# ask about the percentage of tip on bill\n",
        "percentage = int(input(\"What percentage tip would you like to give? 10%, 12% or 15% \"))\n",
        "# make some conditional based on percentage\n",
        "# calculate total cost per person\n",
        "if percentage == 10:\n",
        "  print(\"Each person should pay: \" + \"$\" + str((bill*1.1)/number_of_people))\n",
        "if percentage == 12:\n",
        "  print(\"Each person should pay: \" + \"$\" + str((bill*1.12)/number_of_people))\n",
        "if percentage == 15:  \n",
        "  print(\"Each person should pay: \" + \"$\" + str((bill*1.15)/number_of_people))"
      ]
    },
    {
      "cell_type": "markdown",
      "source": [
        "## Primitive data types"
      ],
      "metadata": {
        "id": "QHobZv4zg3p7"
      }
    },
    {
      "cell_type": "code",
      "source": [
        "#data types\n",
        "\n",
        "#strings\n",
        "print (\"Hello\"[-1])\n",
        "print(\"123\" + \"345\")\n",
        "\n",
        "#integer\n",
        "print(123 + 345)\n",
        "print(123_345_567_789)\n",
        "\n",
        "#float\n",
        "print(3.14159)\n",
        "\n",
        "#boolean\n",
        "True\n",
        "False"
      ],
      "metadata": {
        "colab": {
          "base_uri": "https://localhost:8080/"
        },
        "id": "XJFrWhbvg6Dj",
        "outputId": "ad931362-633f-479b-8fa6-4d2132088eb0"
      },
      "execution_count": null,
      "outputs": [
        {
          "output_type": "stream",
          "name": "stdout",
          "text": [
            "o\n",
            "123345\n",
            "468\n",
            "123345567789\n",
            "3.14159\n"
          ]
        },
        {
          "output_type": "execute_result",
          "data": {
            "text/plain": [
              "False"
            ]
          },
          "metadata": {},
          "execution_count": 22
        }
      ]
    },
    {
      "cell_type": "markdown",
      "source": [
        "## The len function"
      ],
      "metadata": {
        "id": "ABzsXBzjkQH6"
      }
    },
    {
      "cell_type": "code",
      "source": [
        "#strings does have len\n",
        "print(len(\"Walter\"))"
      ],
      "metadata": {
        "colab": {
          "base_uri": "https://localhost:8080/"
        },
        "id": "PvPZm9pWkRnD",
        "outputId": "fe8b9319-45aa-4d91-9e13-ef2c90acad8c"
      },
      "execution_count": null,
      "outputs": [
        {
          "output_type": "stream",
          "name": "stdout",
          "text": [
            "6\n"
          ]
        }
      ]
    },
    {
      "cell_type": "code",
      "source": [
        "#int doesnt have len\n",
        "print(len(123405))"
      ],
      "metadata": {
        "colab": {
          "base_uri": "https://localhost:8080/",
          "height": 190
        },
        "id": "z5oQrBsHkUMT",
        "outputId": "7e7e2eff-0c5a-4add-8d01-627b3c06c3b4"
      },
      "execution_count": null,
      "outputs": [
        {
          "output_type": "error",
          "ename": "TypeError",
          "evalue": "ignored",
          "traceback": [
            "\u001b[0;31m---------------------------------------------------------------------------\u001b[0m",
            "\u001b[0;31mTypeError\u001b[0m                                 Traceback (most recent call last)",
            "\u001b[0;32m<ipython-input-28-325273f21fe3>\u001b[0m in \u001b[0;36m<module>\u001b[0;34m()\u001b[0m\n\u001b[1;32m      1\u001b[0m \u001b[0;31m#int doesnt have len\u001b[0m\u001b[0;34m\u001b[0m\u001b[0;34m\u001b[0m\u001b[0;34m\u001b[0m\u001b[0m\n\u001b[0;32m----> 2\u001b[0;31m \u001b[0mprint\u001b[0m\u001b[0;34m(\u001b[0m\u001b[0mlen\u001b[0m\u001b[0;34m(\u001b[0m\u001b[0;36m123405\u001b[0m\u001b[0;34m)\u001b[0m\u001b[0;34m)\u001b[0m\u001b[0;34m\u001b[0m\u001b[0;34m\u001b[0m\u001b[0m\n\u001b[0m",
            "\u001b[0;31mTypeError\u001b[0m: object of type 'int' has no len()"
          ]
        }
      ]
    },
    {
      "cell_type": "code",
      "source": [
        "#declare a variable that stores the name and get the number of letters on it\n",
        "num_char = len(input(\"What is your name? \"))\n",
        "#print number of characters\n",
        "print(\"Your name has \" + str(num_char) + \" characters.\")"
      ],
      "metadata": {
        "colab": {
          "base_uri": "https://localhost:8080/"
        },
        "id": "kFD1BbMjkYPt",
        "outputId": "899467a0-584c-4a8d-bfd0-4ecd9447897e"
      },
      "execution_count": null,
      "outputs": [
        {
          "output_type": "stream",
          "name": "stdout",
          "text": [
            "What is your name? Federico\n",
            "Your name has 8 characters.\n"
          ]
        }
      ]
    },
    {
      "cell_type": "code",
      "source": [
        "###PEMDAS\n",
        "#()\n",
        "#**\n",
        "#*/\n",
        "#+-"
      ],
      "metadata": {
        "id": "FDCP4AYorrpP"
      },
      "execution_count": 2,
      "outputs": []
    },
    {
      "cell_type": "code",
      "source": [
        "print(3*3 +3/3-3)"
      ],
      "metadata": {
        "colab": {
          "base_uri": "https://localhost:8080/"
        },
        "id": "Ml2FtPjBCfwe",
        "outputId": "6e0a5f6f-896b-4090-8541-ef9f21e3b43a"
      },
      "execution_count": 3,
      "outputs": [
        {
          "output_type": "stream",
          "name": "stdout",
          "text": [
            "7.0\n"
          ]
        }
      ]
    },
    {
      "cell_type": "code",
      "source": [
        "score = 0\n",
        "height = 1.8\n",
        "isWinning = True\n",
        "\n",
        "#f-String\n",
        "print (f\"your score is {score}, your height is {height}, you are winning is {isWinning}\")"
      ],
      "metadata": {
        "colab": {
          "base_uri": "https://localhost:8080/"
        },
        "id": "hytKU5_RCrVu",
        "outputId": "88a80e80-b88a-4030-e782-fdf9c34f8c07"
      },
      "execution_count": 6,
      "outputs": [
        {
          "output_type": "stream",
          "name": "stdout",
          "text": [
            "your score is 0, your height is 1.8, you are winning is True\n"
          ]
        }
      ]
    },
    {
      "cell_type": "markdown",
      "source": [
        "## Instructions\n",
        "### Exercise 1 - Day 2\n",
        "#### Write a program that adds the digits in a 2 digit number. e.g. if the input was 35, then the output should be 3 + 5 = 8"
      ],
      "metadata": {
        "id": "VVTnHYu3I20q"
      }
    },
    {
      "cell_type": "code",
      "source": [
        "# 🚨 Don't change the code below 👇\n",
        "two_digit_number = input(\"Type a two digit number: \")\n",
        "# 🚨 Don't change the code above 👆\n",
        "\n",
        "####################################\n",
        "#Write your code below this line 👇\n",
        "first = int(two_digit_number[0])\n",
        "second = int(two_digit_number[1])\n",
        "print (first + second)"
      ],
      "metadata": {
        "colab": {
          "base_uri": "https://localhost:8080/"
        },
        "id": "V8T4ocrTI7G-",
        "outputId": "11b48ecf-7c41-4830-a8aa-edf556aa9f8b"
      },
      "execution_count": 7,
      "outputs": [
        {
          "output_type": "stream",
          "name": "stdout",
          "text": [
            "Type a two digit number: 57\n",
            "12\n"
          ]
        }
      ]
    },
    {
      "cell_type": "markdown",
      "source": [
        "### Exercise 2 - Day 2\n",
        "#### Write a program that calculates the Body Mass Index (BMI) from a user's weight and height.\n",
        "\n",
        "#### The BMI is a measure of some's weight taking into account their height. e.g. If a tall person and a short person both weigh the same amount, the short person is usually more overweight.\n",
        "\n",
        "#### The BMI is calculated by dividing a person's weight (in kg) by the square of their height (in m):"
      ],
      "metadata": {
        "id": "21ZWEzpfJde7"
      }
    },
    {
      "cell_type": "code",
      "source": [
        "height = input(\"Enter your height: \")\n",
        "altura = float(height)\n",
        "weight = input(\"Enter your weight: \")\n",
        "peso = float(weight)\n",
        "imc = round(peso/(altura*altura), 2)\n",
        "print (int(imc))"
      ],
      "metadata": {
        "colab": {
          "base_uri": "https://localhost:8080/"
        },
        "id": "XUVXMd_XJjhQ",
        "outputId": "f91c3f37-883e-4381-ab6c-bb737136774c"
      },
      "execution_count": 25,
      "outputs": [
        {
          "output_type": "stream",
          "name": "stdout",
          "text": [
            "Enter your height: 1.9\n",
            "Enter your weight: 96\n",
            "26\n"
          ]
        }
      ]
    },
    {
      "cell_type": "markdown",
      "source": [
        "## Exercise 3 - Day 2\n",
        "### Life in weeks\n",
        "\n",
        "I was reading this article by Tim Urban - Your Life in Weeks and realised just how little time we actually have.\n",
        "\n",
        "https://waitbutwhy.com/2014/05/life-weeks.html\n",
        "\n",
        "Create a program using maths and f-Strings that tells us how many days, weeks, months we have left if we live until 90 years old.\n",
        "\n",
        "It will take your current age as the input and output a message with our time left in this format:\n",
        "\n",
        "    You have x days, y weeks, and z months left.\n",
        "\n",
        "Where x, y and z are replaced with the actual calculated numbers.\n",
        "\n",
        "Warning your output should match the Example Output format exactly, even the positions of the commas and full stops."
      ],
      "metadata": {
        "id": "uuhSjmkbNB9B"
      }
    },
    {
      "cell_type": "code",
      "source": [
        "age = input(\"What is your current age? \")\n",
        "years_left = 90-(int(age))\n",
        "x = years_left*365\n",
        "y = years_left*52\n",
        "z = years_left*12\n",
        "print (f\"You have {x} days, {y} weeks and {z} months left.\")\n"
      ],
      "metadata": {
        "colab": {
          "base_uri": "https://localhost:8080/"
        },
        "id": "rHdL51fRNjiA",
        "outputId": "88b93277-8b0a-4fb5-8913-c3c87e2b4912"
      },
      "execution_count": 27,
      "outputs": [
        {
          "output_type": "stream",
          "name": "stdout",
          "text": [
            "What is your current age? 45\n",
            "You have 16425 days, 2340 weeks and 540 months left.\n"
          ]
        }
      ]
    }
  ]
}