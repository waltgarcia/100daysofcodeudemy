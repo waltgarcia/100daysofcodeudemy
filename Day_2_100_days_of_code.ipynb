{
  "nbformat": 4,
  "nbformat_minor": 0,
  "metadata": {
    "colab": {
      "name": "Day 2 - 100 days of code",
      "provenance": [],
      "authorship_tag": "ABX9TyNmXrZIOjZzlEUOEu8/ycp5",
      "include_colab_link": true
    },
    "kernelspec": {
      "name": "python3",
      "display_name": "Python 3"
    },
    "language_info": {
      "name": "python"
    }
  },
  "cells": [
    {
      "cell_type": "markdown",
      "metadata": {
        "id": "view-in-github",
        "colab_type": "text"
      },
      "source": [
        "<a href=\"https://colab.research.google.com/github/waltgarcia/100daysofcodeudemy/blob/main/Day_2_100_days_of_code.ipynb\" target=\"_parent\"><img src=\"https://colab.research.google.com/assets/colab-badge.svg\" alt=\"Open In Colab\"/></a>"
      ]
    },
    {
      "cell_type": "code",
      "execution_count": null,
      "metadata": {
        "colab": {
          "base_uri": "https://localhost:8080/"
        },
        "id": "lfdXZ8KNaQCN",
        "outputId": "c6c93ef4-d240-4e11-8588-4689eaaf685b"
      },
      "outputs": [
        {
          "output_type": "stream",
          "name": "stdout",
          "text": [
            "Welcome to the tip calculator\n",
            "\n",
            "What was the total bill? 1000\n",
            "How many people to split the bill? 5\n",
            "What percentage tip would you like to give? 10%, 12% or 15% 15\n",
            "Each person should pay: $230.0\n"
          ]
        }
      ],
      "source": [
        "print(\"Welcome to the tip calculator\\n\")\n",
        "# ask for the total bill\n",
        "bill = int(input(\"What was the total bill? \"))\n",
        "# ask for the number of people that will pay the bill\n",
        "number_of_people = int(input(\"How many people to split the bill? \"))\n",
        "# ask about the percentage of tip on bill\n",
        "percentage = int(input(\"What percentage tip would you like to give? 10%, 12% or 15% \"))\n",
        "# make some conditional based on percentage\n",
        "# calculate total cost per person\n",
        "if percentage == 10:\n",
        "  print(\"Each person should pay: \" + \"$\" + str((bill*1.1)/number_of_people))\n",
        "if percentage == 12:\n",
        "  print(\"Each person should pay: \" + \"$\" + str((bill*1.12)/number_of_people))\n",
        "if percentage == 15:  \n",
        "  print(\"Each person should pay: \" + \"$\" + str((bill*1.15)/number_of_people))"
      ]
    },
    {
      "cell_type": "markdown",
      "source": [
        "## Primitive data types"
      ],
      "metadata": {
        "id": "QHobZv4zg3p7"
      }
    },
    {
      "cell_type": "code",
      "source": [
        "#data types\n",
        "\n",
        "#strings\n",
        "print (\"Hello\"[-1])\n",
        "print(\"123\" + \"345\")\n",
        "\n",
        "#integer\n",
        "print(123 + 345)\n",
        "print(123_345_567_789)\n",
        "\n",
        "#float\n",
        "print(3.14159)\n",
        "\n",
        "#boolean\n",
        "True\n",
        "False"
      ],
      "metadata": {
        "colab": {
          "base_uri": "https://localhost:8080/"
        },
        "id": "XJFrWhbvg6Dj",
        "outputId": "ad931362-633f-479b-8fa6-4d2132088eb0"
      },
      "execution_count": null,
      "outputs": [
        {
          "output_type": "stream",
          "name": "stdout",
          "text": [
            "o\n",
            "123345\n",
            "468\n",
            "123345567789\n",
            "3.14159\n"
          ]
        },
        {
          "output_type": "execute_result",
          "data": {
            "text/plain": [
              "False"
            ]
          },
          "metadata": {},
          "execution_count": 22
        }
      ]
    },
    {
      "cell_type": "markdown",
      "source": [
        "## The len function"
      ],
      "metadata": {
        "id": "ABzsXBzjkQH6"
      }
    },
    {
      "cell_type": "code",
      "source": [
        "#strings does have len\n",
        "print(len(\"Walter\"))"
      ],
      "metadata": {
        "colab": {
          "base_uri": "https://localhost:8080/"
        },
        "id": "PvPZm9pWkRnD",
        "outputId": "fe8b9319-45aa-4d91-9e13-ef2c90acad8c"
      },
      "execution_count": null,
      "outputs": [
        {
          "output_type": "stream",
          "name": "stdout",
          "text": [
            "6\n"
          ]
        }
      ]
    },
    {
      "cell_type": "code",
      "source": [
        "#int doesnt have len\n",
        "print(len(123405))"
      ],
      "metadata": {
        "colab": {
          "base_uri": "https://localhost:8080/",
          "height": 190
        },
        "id": "z5oQrBsHkUMT",
        "outputId": "7e7e2eff-0c5a-4add-8d01-627b3c06c3b4"
      },
      "execution_count": null,
      "outputs": [
        {
          "output_type": "error",
          "ename": "TypeError",
          "evalue": "ignored",
          "traceback": [
            "\u001b[0;31m---------------------------------------------------------------------------\u001b[0m",
            "\u001b[0;31mTypeError\u001b[0m                                 Traceback (most recent call last)",
            "\u001b[0;32m<ipython-input-28-325273f21fe3>\u001b[0m in \u001b[0;36m<module>\u001b[0;34m()\u001b[0m\n\u001b[1;32m      1\u001b[0m \u001b[0;31m#int doesnt have len\u001b[0m\u001b[0;34m\u001b[0m\u001b[0;34m\u001b[0m\u001b[0;34m\u001b[0m\u001b[0m\n\u001b[0;32m----> 2\u001b[0;31m \u001b[0mprint\u001b[0m\u001b[0;34m(\u001b[0m\u001b[0mlen\u001b[0m\u001b[0;34m(\u001b[0m\u001b[0;36m123405\u001b[0m\u001b[0;34m)\u001b[0m\u001b[0;34m)\u001b[0m\u001b[0;34m\u001b[0m\u001b[0;34m\u001b[0m\u001b[0m\n\u001b[0m",
            "\u001b[0;31mTypeError\u001b[0m: object of type 'int' has no len()"
          ]
        }
      ]
    },
    {
      "cell_type": "code",
      "source": [
        "#declare a variable that stores the name and get the number of letters on it\n",
        "num_char = len(input(\"What is your name? \"))\n",
        "#print number of characters\n",
        "print(\"Your name has \" + str(num_char) + \" characters.\")"
      ],
      "metadata": {
        "colab": {
          "base_uri": "https://localhost:8080/"
        },
        "id": "kFD1BbMjkYPt",
        "outputId": "899467a0-584c-4a8d-bfd0-4ecd9447897e"
      },
      "execution_count": null,
      "outputs": [
        {
          "output_type": "stream",
          "name": "stdout",
          "text": [
            "What is your name? Federico\n",
            "Your name has 8 characters.\n"
          ]
        }
      ]
    },
    {
      "cell_type": "code",
      "source": [
        ""
      ],
      "metadata": {
        "id": "FDCP4AYorrpP"
      },
      "execution_count": null,
      "outputs": []
    }
  ]
}