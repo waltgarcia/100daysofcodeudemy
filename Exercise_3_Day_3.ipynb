{
  "nbformat": 4,
  "nbformat_minor": 0,
  "metadata": {
    "colab": {
      "name": "Exercise 3 - Day 3",
      "provenance": [],
      "authorship_tag": "ABX9TyNz98rtNzuWA0QIl6rZrvEC",
      "include_colab_link": true
    },
    "kernelspec": {
      "name": "python3",
      "display_name": "Python 3"
    },
    "language_info": {
      "name": "python"
    }
  },
  "cells": [
    {
      "cell_type": "markdown",
      "metadata": {
        "id": "view-in-github",
        "colab_type": "text"
      },
      "source": [
        "<a href=\"https://colab.research.google.com/github/waltgarcia/100daysofcodeudemy/blob/main/Exercise_3_Day_3.ipynb\" target=\"_parent\"><img src=\"https://colab.research.google.com/assets/colab-badge.svg\" alt=\"Open In Colab\"/></a>"
      ]
    },
    {
      "cell_type": "markdown",
      "source": [
        "## Leap year\n",
        "## Instructions\n",
        "\n",
        "Write a program that works out whether if a given year is a leap year. A normal year has 365 days, leap years have 366, with an extra day in February. The reason why we have leap years is really fascinating, this video does it more justice:\n",
        "\n",
        "[Youtube link for explanation about leap years](https://www.youtube.com/watch?v=xX96xng7sAE\n",
        ")\n",
        "\n",
        "This is how you work out whether if a particular year is a leap year.\n",
        "\n",
        "    on every year that is evenly divisible by 4 \n",
        "\n",
        "    **except** every year that is evenly divisible by 100 \n",
        "\n",
        "    **unless** the year is also evenly divisible by 400\n",
        "\n",
        "e.g. The year 2000:\n",
        "\n",
        "*  2000 ÷ 4 = 500 (Leap)\n",
        "\n",
        "*  2000 ÷ 100 = 20 (Not Leap)\n",
        "\n",
        "*  2000 ÷ 400 = 5 (Leap!)\n",
        "\n",
        "So the year 2000 is a leap year.\n",
        "\n",
        "But the year 2100 is not a leap year because:\n",
        "\n",
        "*  2100 ÷ 4 = 525 (Leap)\n",
        "\n",
        "*  2100 ÷ 100 = 21 (Not Leap)\n",
        "\n",
        "*  2100 ÷ 400 = 5.25 (Not Leap)\n",
        "\n",
        "Warning your output should match the Example Output format exactly, even the positions of the commas and full stops.\n",
        "\n",
        "**Example Input 1**\n",
        "\n",
        "`2400`\n",
        "\n",
        "**Example Output 1**\n",
        "\n",
        "`Leap year`\n",
        "\n",
        "**Example Input 2**\n",
        "\n",
        "`1989`\n",
        "\n",
        "**Example Output 2**\n",
        "\n",
        "`Not leap year.`"
      ],
      "metadata": {
        "id": "60YCstkU1lzJ"
      }
    },
    {
      "cell_type": "code",
      "source": [
        "# 🚨 Don't change the code below 👇\n",
        "year = int(input(\"Which year do you want to check? \"))\n",
        "# 🚨 Don't change the code above 👆\n",
        "\n",
        "#Write your code below this line 👇\n",
        "if year % 4 == 0:\n",
        "    if year % 100 == 0:\n",
        "        if year % 400 == 0:\n",
        "            print (\"Leap year.\")\n",
        "        else: \n",
        "            print (\"Not leap year.\")\n",
        "    else:\n",
        "        print (\"Leap year.\")\n",
        "else:\n",
        "    print(\"Not leap year.\")"
      ],
      "metadata": {
        "colab": {
          "base_uri": "https://localhost:8080/"
        },
        "id": "g7UVHIrE2Ax-",
        "outputId": "90a2b0a1-fc44-4d8b-a591-85235da2a58a"
      },
      "execution_count": 1,
      "outputs": [
        {
          "output_type": "stream",
          "name": "stdout",
          "text": [
            "Which year do you want to check? 2023\n",
            "Not leap year.\n"
          ]
        }
      ]
    }
  ]
}