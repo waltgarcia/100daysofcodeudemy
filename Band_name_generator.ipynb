{
  "nbformat": 4,
  "nbformat_minor": 0,
  "metadata": {
    "colab": {
      "name": "Band name generator",
      "provenance": []
    },
    "kernelspec": {
      "name": "python3",
      "display_name": "Python 3"
    },
    "language_info": {
      "name": "python"
    }
  },
  "cells": [
    {
      "cell_type": "code",
      "execution_count": 6,
      "metadata": {
        "colab": {
          "base_uri": "https://localhost:8080/"
        },
        "id": "raqDXipdXeBV",
        "outputId": "39d80eb9-4db8-4d3f-b7f7-f28d4a7f7c63"
      },
      "outputs": [
        {
          "output_type": "stream",
          "name": "stdout",
          "text": [
            "Please enter your city: McAllen\n",
            "Please enter the name of your pet: Dog\n",
            "A nice name could be: McAllen Dog's\n"
          ]
        }
      ],
      "source": [
        "city = input(\"Please enter your city: \")\n",
        "pet= input(\"Please enter the name of your pet: \")\n",
        "band_name = city + \" \" + pet\n",
        "print('A nice name could be: ' + band_name + \"'s\")"
      ]
    }
  ]
}